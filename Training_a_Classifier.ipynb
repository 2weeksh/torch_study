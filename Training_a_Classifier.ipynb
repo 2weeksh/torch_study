{
 "cells": [
  {
   "cell_type": "markdown",
   "id": "d1eed2d3",
   "metadata": {},
   "source": [
    "# 데이터는 어떻게 할까?\n",
    "\n",
    "일반적으로 Numpy 배열로 불러온다. 그 후 그 배열을 torch.*Tensor로 변환함\n",
    "\n",
    "# 이미지 분류기 학습하기\n",
    "1. torchvision을 사용해 CIFAR10의 train/test 데이터셋 불러오고, 정규화한다.\n",
    "2. 합성곱 신경망을 정의한다.\n",
    "3. 손실 함수를 정의한다.\n",
    "4. 학습용 데이터를 사용하여 신경망을 학습한다.\n",
    "5. 시험용 데이터를 사용하여 신경망을 검사한다."
   ]
  },
  {
   "cell_type": "markdown",
   "id": "052f5379",
   "metadata": {},
   "source": [
    "## 1. CIFAR10을 불러오기 정규화하기"
   ]
  },
  {
   "cell_type": "code",
   "execution_count": 7,
   "id": "fb66290b",
   "metadata": {},
   "outputs": [
    {
     "name": "stdout",
     "output_type": "stream",
     "text": [
      "Downloading https://www.cs.toronto.edu/~kriz/cifar-10-python.tar.gz to ./data\\cifar-10-python.tar.gz\n"
     ]
    },
    {
     "name": "stderr",
     "output_type": "stream",
     "text": [
      "100.0%\n"
     ]
    },
    {
     "name": "stdout",
     "output_type": "stream",
     "text": [
      "Extracting ./data\\cifar-10-python.tar.gz to ./data\n"
     ]
    }
   ],
   "source": [
    "# torchvision을 이용해 CIFAR10 불러오기\n",
    "import torch\n",
    "import torchvision\n",
    "import torchvision.transforms as transforms\n",
    "\n",
    "# torchvison의 데이터셋 출력은 [0,1] 범위, 이를 [-1, 1]의 범위로 정규화된 Tensor로 변환\n",
    "transforms = transforms.Compose(\n",
    "    [transforms.ToTensor(),  # 텐서 형태로 변환\n",
    "    # Tensor 이미지의 픽셀 값을 정규화함. 첫 번째 튜플은 각 채널(R, G, B)의 평균, 두 번째 튜플은 각 채널의 표준편차\n",
    "    transforms.Normalize((0.5, 0.5, 0.5),(0.5, 0.5, 0.5))]\n",
    ")\n",
    "\n",
    "batch_size = 4\n",
    "\n",
    "\n",
    "trainset = torchvision.datasets.CIFAR10(root='./data', train=True, download=True, transform=transforms)\n",
    "trainloader = torch.utils.data.DataLoader(trainset, batch_size=batch_size, shuffle=True, num_workers=2)\n",
    "\n",
    "testset = torchvision.datasets.CIFAR10(root='./data', train=True, download=False, transform=transforms)\n",
    "testloader = torch.utils.data.DataLoader(testset, batch_size=batch_size, shuffle=False, num_workers=2)\n",
    "\n",
    "# 클래스 이름을 튜플 형태로 저장.\n",
    "classes = ('plane','car','bird','cat','deer','dog','forg','horse','ship','truck')"
   ]
  },
  {
   "cell_type": "code",
   "execution_count": 11,
   "id": "da359ba8",
   "metadata": {},
   "outputs": [
    {
     "name": "stdout",
     "output_type": "stream",
     "text": [
      "planeforg ship dog  \n"
     ]
    },
    {
     "data": {
      "image/png": "[encoded data removed]",
      "text/plain": [
       "<Figure size 640x480 with 1 Axes>"
      ]
     },
     "metadata": {},
     "output_type": "display_data"
    }
   ],
   "source": [
    "# 학습용 이미지 보기\n",
    "import matplotlib.pyplot as plt\n",
    "import numpy as np\n",
    "\n",
    "\n",
    "def imshow(img):\n",
    "    img = img / 2 + 0.5     # unnormalize ([-1,1]로 정규화하여 다시 [0,1] 범위로 만듦)\n",
    "    npimg = img.numpy()     # Tensor를 numpy 배열로 변환\n",
    "    plt.imshow(np.transpose(npimg, (1,2,0)))    # 차원 순서를 바꿈\n",
    "    plt.show\n",
    "\n",
    "\n",
    "# 학습용 이미지를 무작위로 가져오기\n",
    "dataiter = iter(trainloader)    # 이더레이터로 만듦, 이더레이터는 next함수 호출할 때 마다 데이터를 하나씩 꺼내옴\n",
    "images, labels = next(dataiter) # 배치 사이즈가 4이기 때문에 images에는 4개의 이미지 Tensor, labels에는 4개의 정답 label이 들어감\n",
    "\n",
    "# 이미지 보여주기\n",
    "imshow(torchvision.utils.make_grid(images)) # 개별 이미지를 하나로 합쳐줌\n",
    "# 정답출력\n",
    "print(''.join(f'{classes[labels[j]]:5s}' for j in range(batch_size)))\n"
   ]
  },
  {
   "cell_type": "markdown",
   "id": "b06f3868",
   "metadata": {},
   "source": [
    "# 2. 합성곱 신경망 정의하기"
   ]
  },
  {
   "cell_type": "code",
   "execution_count": 12,
   "id": "9dc8823a",
   "metadata": {},
   "outputs": [],
   "source": [
    "import torch.nn as nn\n",
    "import torch.nn.functional as F\n",
    "\n",
    "\n",
    "class Net(nn.Module):\n",
    "    def __init__(self):\n",
    "        super().__init__()\n",
    "        self.conv1 = nn.Conv2d(3, 6, 5)         # 합성곱(convolution layer) (입력 채널 수, 출력 채널 수, 필터(커널) 크기)\n",
    "        self.pool = nn.MaxPool2d(2, 2)          # 맥스 풀링(Max Pooling layer) (2x2크기의 window에서 가장 큰 값만 남겨 이미지의 크기를 절반으로 줄임, 특징 유지, 계산양 줄임)\n",
    "        self.conv2 = nn.Conv2d(6, 16, 5)        \n",
    "        self.fc1 = nn.Linear(16 * 5 * 5, 120)   # 합성곱, 풀링을 거쳐서 Flatten해진 데이터를 입력으로 받는다. 16*5*5는 데이터 크기, 120은 노드 개수\n",
    "        self.fc2 = nn.Linear(120, 84)           # 120개 노드 84개로 줄임\n",
    "        self.fc3 = nn.Linear(84, 10)            # 84개 노드 10개로 줄임\n",
    "\n",
    "    def forward(self, x):\n",
    "        x = self.pool(F.relu(self.conv1(x)))\n",
    "        x = self.pool(F.relu(self.conv2(x)))\n",
    "        x = torch.flatten(x, 1) # 배치를 제외한 모든 다차원(채널, 높이, 너비)을 평탄화(flatten)\n",
    "        x = F.relu(self.fc1(x))\n",
    "        x = F.relu(self.fc2(x))\n",
    "        x = self.fc3(x)\n",
    "        return x\n",
    "\n",
    "\n",
    "net = Net()"
   ]
  },
  {
   "cell_type": "markdown",
   "id": "b7d97e16",
   "metadata": {},
   "source": [
    "# 3. 손실 함수와 opimizer 정의하기"
   ]
  },
  {
   "cell_type": "code",
   "execution_count": 15,
   "id": "86d22760",
   "metadata": {},
   "outputs": [],
   "source": [
    "# 교차 엔트로피 손실(cross-entropy loss)과 모멘텀 값을 갖는 SGD를 사용한다.\n",
    "import torch.optim as optim\n",
    "\n",
    "criterion = nn.CrossEntropyLoss()\n",
    "optimizer = optim.SGD(net.parameters(), lr=0.001, momentum= 0.9)"
   ]
  },
  {
   "cell_type": "markdown",
   "id": "c3f68bac",
   "metadata": {},
   "source": [
    "# 4. 신경망 학습하기"
   ]
  },
  {
   "cell_type": "code",
   "execution_count": 16,
   "id": "94a10d9d",
   "metadata": {},
   "outputs": [
    {
     "name": "stdout",
     "output_type": "stream",
     "text": [
      "[1,  2000] loss: 2.168\n",
      "[1,  4000] loss: 1.854\n",
      "[1,  6000] loss: 1.674\n",
      "[1,  8000] loss: 1.607\n",
      "[1, 10000] loss: 1.524\n",
      "[1, 12000] loss: 1.463\n",
      "[2,  2000] loss: 1.394\n",
      "[2,  4000] loss: 1.357\n",
      "[2,  6000] loss: 1.344\n",
      "[2,  8000] loss: 1.312\n",
      "[2, 10000] loss: 1.320\n",
      "[2, 12000] loss: 1.297\n",
      "Finished Traning\n"
     ]
    }
   ],
   "source": [
    "# 데이터를 반복해서 신경망에 입력으로 제공하고, 최적화(Optimizer)만 하면 된다.\n",
    "\n",
    "for epoch in range(2): # 데이터 2번 반복\n",
    "\n",
    "    running_loss=0.0\n",
    "    for i, data in enumerate(trainloader, 0): # 미니배치 단위로 입력\n",
    "        # data로부터 inputs, labels 받음\n",
    "        input, labels = data\n",
    "\n",
    "        # 변화도 매개변수를 0으로 초기화\n",
    "        optimizer.zero_grad()\n",
    "\n",
    "        # 순/역전파 + 최적화 진행\n",
    "        outputs = net(input)\n",
    "        loss = criterion(outputs, labels)\n",
    "        loss.backward()\n",
    "        optimizer.step()\n",
    "\n",
    "        # 통계 출력\n",
    "        running_loss += loss.item() #.item은 텐서에서 숫자 값만 가져오는 함수. 손실 값을 running_loss에 누적으로 저장\n",
    "        if i % 2000 == 1999:        # 2000개의 미니배치 학습시킬 때마다 학습 상태 확인\n",
    "            print(f'[{epoch + 1}, {i + 1:5d}] loss: {running_loss / 2000:.3f}') # 현재 에포크와 진행된 미니배치 개수, 2000개 배치의 평균 손실 값을 출력\n",
    "            running_loss = 0.0      # 0으로 초기화\n",
    "\n",
    "print('Finished Traning')"
   ]
  },
  {
   "cell_type": "code",
   "execution_count": 17,
   "id": "87ce9866",
   "metadata": {},
   "outputs": [],
   "source": [
    "# 학습한 모델 저장\n",
    "PATH = './cifar_net.pth'\n",
    "torch.save(net.state_dict(), PATH)"
   ]
  },
  {
   "cell_type": "markdown",
   "id": "6138f3de",
   "metadata": {},
   "source": [
    "# 시험용 데이터로 신경망 검사하기\n",
    "학습데이터 2회 반복해서 학습시킴\n",
    "\n",
    "신경망이 예측한 출력과 진짜 정답을 비교하는 방식으로 확인, 예측이 맞으면 맞은 예측값 목록에 넣음"
   ]
  },
  {
   "cell_type": "code",
   "execution_count": 18,
   "id": "7eb92282",
   "metadata": {},
   "outputs": [
    {
     "name": "stdout",
     "output_type": "stream",
     "text": [
      "GroundTruth:  forg trucktruckdeer \n"
     ]
    },
    {
     "data": {
      "image/png": "[encoded data removed]",
      "text/plain": [
       "<Figure size 640x480 with 1 Axes>"
      ]
     },
     "metadata": {},
     "output_type": "display_data"
    }
   ],
   "source": [
    "# 시험용 데이터 보기\n",
    "dataiter = iter(testloader)\n",
    "images, labels = next(dataiter)\n",
    "\n",
    "# 이미지 출력\n",
    "imshow(torchvision.utils.make_grid(images))\n",
    "print('GroundTruth: ', ''.join(f'{classes[labels[j]]:5s}' for j in range(4)))"
   ]
  },
  {
   "cell_type": "code",
   "execution_count": 19,
   "id": "39ad25e8",
   "metadata": {},
   "outputs": [
    {
     "name": "stderr",
     "output_type": "stream",
     "text": [
      "C:\\Users\\Public\\Documents\\ESTsoft\\CreatorTemp\\ipykernel_19248\\1928961872.py:3: FutureWarning: You are using `torch.load` with `weights_only=False` (the current default value), which uses the default pickle module implicitly. It is possible to construct malicious pickle data which will execute arbitrary code during unpickling (See https://github.com/pytorch/pytorch/blob/main/SECURITY.md#untrusted-models for more details). In a future release, the default value for `weights_only` will be flipped to `True`. This limits the functions that could be executed during unpickling. Arbitrary objects will no longer be allowed to be loaded via this mode unless they are explicitly allowlisted by the user via `torch.serialization.add_safe_globals`. We recommend you start setting `weights_only=True` for any use case where you don't have full control of the loaded file. Please open an issue on GitHub for any issues related to this experimental feature.\n",
      "  net.load_state_dict(torch.load(PATH))\n"
     ]
    },
    {
     "data": {
      "text/plain": [
       "<All keys matched successfully>"
      ]
     },
     "execution_count": 19,
     "metadata": {},
     "output_type": "execute_result"
    }
   ],
   "source": [
    "# 저장했던 모델 불러오기\n",
    "net = Net()\n",
    "net.load_state_dict(torch.load(PATH))"
   ]
  },
  {
   "cell_type": "code",
   "execution_count": 22,
   "id": "a18f14d1",
   "metadata": {},
   "outputs": [
    {
     "name": "stdout",
     "output_type": "stream",
     "text": [
      "Predicted:  cat  trucktruckdeer \n"
     ]
    }
   ],
   "source": [
    "# 출력은 10개 불류 각각에 대한 값으로 나타남. 더 높은 값이 나타나면 그 이미지가 해당 분류에 가깝다고 생각한 것.\n",
    "# 신경망이 어떻게 예측했는지 보기\n",
    "outputs=net(images)\n",
    "\n",
    "_, predicted = torch.max(outputs, 1)\n",
    "\n",
    "print('Predicted: ', ''.join(f'{classes[predicted[j]]:5s}' for j in range(4)))"
   ]
  },
  {
   "cell_type": "code",
   "execution_count": 23,
   "id": "ce818fb1",
   "metadata": {},
   "outputs": [
    {
     "name": "stdout",
     "output_type": "stream",
     "text": [
      "Accuracy of the network on the 10000 test images: 57 %\n"
     ]
    }
   ],
   "source": [
    "# 전체 데이터셋에 대해서는 어떻게 동작?\n",
    "correct = 0\n",
    "total = 0\n",
    "# 학습 중이 아니므로, 출력에 대한 변화도를 계산할 필요 X\n",
    "with torch.no_grad():\n",
    "    for data in testloader:\n",
    "        images, labels = data\n",
    "        \n",
    "        outputs = net(images)\n",
    "\n",
    "        # 예측값 추출\n",
    "        _, predicted = torch.max(outputs.data, 1)\n",
    "        total += labels.size(0)\n",
    "        correct += (predicted == labels).sum().item()\n",
    "\n",
    "print(f'Accuracy of the network on the 10000 test images: {100 * correct // total} %')"
   ]
  },
  {
   "cell_type": "code",
   "execution_count": 25,
   "id": "327fa425",
   "metadata": {},
   "outputs": [
    {
     "name": "stdout",
     "output_type": "stream",
     "text": [
      "Accuracy for class: plane is 53.1 %\n",
      "Accuracy for class: car   is 72.7 %\n",
      "Accuracy for class: bird  is 36.7 %\n",
      "Accuracy for class: cat   is 60.0 %\n",
      "Accuracy for class: deer  is 61.7 %\n",
      "Accuracy for class: dog   is 29.6 %\n",
      "Accuracy for class: forg  is 60.7 %\n",
      "Accuracy for class: horse is 61.7 %\n",
      "Accuracy for class: ship  is 80.8 %\n",
      "Accuracy for class: truck is 53.2 %\n"
     ]
    }
   ],
   "source": [
    "# 어떤 것들을 잘 분류하고, 어떤 것들을 못했는지 알아보기\n",
    "\n",
    "# 각 분류에 대한 예측값을 위한 준비\n",
    "correct_pred = {classname: 0 for classname in classes}\n",
    "total_pred = {classname: 0 for classname in classes}\n",
    "\n",
    "# 변화도는 여전히 필요하지 않습니다.\n",
    "with torch.no_grad():\n",
    "    for data in testloader:\n",
    "        images, labels = data\n",
    "        outputs = net(images)\n",
    "        _, predictions = torch.max(outputs,1)\n",
    "        # 각 분류별로 올바른 예측 수\n",
    "        for label, prediction in zip(labels, predictions):\n",
    "            if label == prediction:\n",
    "                correct_pred[classes[label]] += 1\n",
    "            total_pred[classes[label]] += 1\n",
    "\n",
    "# 분류별 정확도\n",
    "for classname, correct_count in correct_pred.items():\n",
    "    accuracy = 100 * float(correct_count) / total_pred[classname]\n",
    "    print(f'Accuracy for class: {classname:5s} is {accuracy:.1f} %')\n"
   ]
  },
  {
   "cell_type": "markdown",
   "id": "df5b74fd",
   "metadata": {},
   "source": [
    "# GPU에서 학습하기\n",
    "Tensor를 GPU로 이동했던 것 처럼, 신경망 또한 GPU로 옮길 수 있음"
   ]
  },
  {
   "cell_type": "code",
   "execution_count": null,
   "id": "eb20041d",
   "metadata": {},
   "outputs": [],
   "source": [
    "# CUDA 장치를 사용하도록 설정합니다.\n",
    "device = torch.devise('cuda:0' if torch.cuda.is_available() else 'cpu')\n",
    "\n",
    "# CUDA 기기가 존재하면 아래 코드를 실행\n",
    "print(device)\n",
    "\n",
    "# 모든 모듈의 매개변수와 버퍼를 CUDA Tensor로 변경한다.\n",
    "net.to(device)\n",
    "\n",
    "# 각 단계에서 입력과 정답도 GPU에 보내야 한다.\n",
    "inputs, labels = data[0].to(device), data[1].to(device)"
   ]
  }
 ],
 "metadata": {
  "kernelspec": {
   "display_name": "torch_study",
   "language": "python",
   "name": "python3"
  },
  "language_info": {
   "codemirror_mode": {
    "name": "ipython",
    "version": 3
   },
   "file_extension": ".py",
   "mimetype": "text/x-python",
   "name": "python",
   "nbconvert_exporter": "python",
   "pygments_lexer": "ipython3",
   "version": "3.11.13"
  }
 },
 "nbformat": 4,
 "nbformat_minor": 5
}
