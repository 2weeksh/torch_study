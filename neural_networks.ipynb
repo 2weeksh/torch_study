{
 "cells": [
  {
   "cell_type": "markdown",
   "id": "f406eb47",
   "metadata": {},
   "source": [
    "### nn은 모델을 정의하고 미분하는데 autograd 사용.\n",
    "### nn.Module은 layer와 output을 반환하는 forward(input) 매서드를 포함하고 있음\n",
    "\n",
    "신경망의 일반적인 학습 과정은 다음과 같습니다:\n",
    "\n",
    "*학습 가능한 매개변수(또는 가중치(weight))를 갖는 신경망을 정의합니다.\n",
    "\n",
    "*데이터셋(dataset) 입력을 반복합니다.\n",
    "\n",
    "*입력을 신경망에서 전파(process)합니다.\n",
    "\n",
    "*손실(loss; 출력이 정답으로부터 얼마나 떨어져 있는지)을 계산합니다.\n",
    "\n",
    "*변화도(gradient)를 신경망의 매개변수들에 역으로 전파합니다.\n",
    "\n",
    "*신경망의 가중치를 갱신합니다. 일반적으로 : 새로운 가중치(weight) = 가중치(weight) - 학습률(learning rate) * 변화도(gradient)"
   ]
  },
  {
   "cell_type": "code",
   "execution_count": 4,
   "id": "3c56e419",
   "metadata": {},
   "outputs": [
    {
     "ename": "ImportError",
     "evalue": "/home/joohyuk02/miniconda3/envs/torch_study/lib/python3.11/site-packages/torch/lib/libtorch_cpu.so: undefined symbol: iJIT_NotifyEvent",
     "output_type": "error",
     "traceback": [
      "\u001b[31m---------------------------------------------------------------------------\u001b[39m",
      "\u001b[31mImportError\u001b[39m                               Traceback (most recent call last)",
      "\u001b[36mCell\u001b[39m\u001b[36m \u001b[39m\u001b[32mIn[4]\u001b[39m\u001b[32m, line 3\u001b[39m\n\u001b[32m      1\u001b[39m \u001b[38;5;66;03m# 신경망 정의\u001b[39;00m\n\u001b[32m----> \u001b[39m\u001b[32m3\u001b[39m \u001b[38;5;28;01mimport\u001b[39;00m\u001b[38;5;250m \u001b[39m\u001b[34;01mtorch\u001b[39;00m\n\u001b[32m      4\u001b[39m \u001b[38;5;28;01mimport\u001b[39;00m\u001b[38;5;250m \u001b[39m\u001b[34;01mtorch\u001b[39;00m\u001b[34;01m.\u001b[39;00m\u001b[34;01mnn\u001b[39;00m\u001b[38;5;250m \u001b[39m\u001b[38;5;28;01mas\u001b[39;00m\u001b[38;5;250m \u001b[39m\u001b[34;01mnn\u001b[39;00m\n\u001b[32m      5\u001b[39m \u001b[38;5;28;01mimport\u001b[39;00m\u001b[38;5;250m \u001b[39m\u001b[34;01mtorch\u001b[39;00m\u001b[34;01m.\u001b[39;00m\u001b[34;01mnn\u001b[39;00m\u001b[34;01m.\u001b[39;00m\u001b[34;01mfunctional\u001b[39;00m\u001b[38;5;250m \u001b[39m\u001b[38;5;28;01mas\u001b[39;00m\u001b[38;5;250m \u001b[39m\u001b[34;01mF\u001b[39;00m\n",
      "\u001b[36mFile \u001b[39m\u001b[32m~/miniconda3/envs/torch_study/lib/python3.11/site-packages/torch/__init__.py:367\u001b[39m\n\u001b[32m    365\u001b[39m     \u001b[38;5;28;01mif\u001b[39;00m USE_GLOBAL_DEPS:\n\u001b[32m    366\u001b[39m         _load_global_deps()\n\u001b[32m--> \u001b[39m\u001b[32m367\u001b[39m     \u001b[38;5;28;01mfrom\u001b[39;00m\u001b[38;5;250m \u001b[39m\u001b[34;01mtorch\u001b[39;00m\u001b[34;01m.\u001b[39;00m\u001b[34;01m_C\u001b[39;00m\u001b[38;5;250m \u001b[39m\u001b[38;5;28;01mimport\u001b[39;00m *  \u001b[38;5;66;03m# noqa: F403\u001b[39;00m\n\u001b[32m    370\u001b[39m \u001b[38;5;28;01mclass\u001b[39;00m\u001b[38;5;250m \u001b[39m\u001b[34;01mSymInt\u001b[39;00m:\n\u001b[32m    371\u001b[39m \u001b[38;5;250m    \u001b[39m\u001b[33;03m\"\"\"\u001b[39;00m\n\u001b[32m    372\u001b[39m \u001b[33;03m    Like an int (including magic methods), but redirects all operations on the\u001b[39;00m\n\u001b[32m    373\u001b[39m \u001b[33;03m    wrapped node. This is used in particular to symbolically record operations\u001b[39;00m\n\u001b[32m    374\u001b[39m \u001b[33;03m    in the symbolic shape workflow.\u001b[39;00m\n\u001b[32m    375\u001b[39m \u001b[33;03m    \"\"\"\u001b[39;00m\n",
      "\u001b[31mImportError\u001b[39m: /home/joohyuk02/miniconda3/envs/torch_study/lib/python3.11/site-packages/torch/lib/libtorch_cpu.so: undefined symbol: iJIT_NotifyEvent"
     ]
    }
   ],
   "source": [
    "# 신경망 정의\n",
    "\n",
    "import torch\n",
    "import torch.nn as nn\n",
    "import torch.nn.functional as F\n",
    "\n",
    "\n",
    "class Net(nn.Module):\n",
    "\n",
    "    def __init__(self):\n",
    "        super(Net, self).__init__()\n",
    "        # 입력 이미지 채널 1개(흑백), 출력 채널 6개, 5x5 크기의 필터(커널)\n",
    "        self.conv1 = nn.Conv2d(1, 6, 5)\n",
    "        # 입력 이미지 채널 6개, 출력 채널 16개, 5x5 크기의 필터(커널)\n",
    "        self.conv2 = nn.Conv2d(6, 16, 5)\n",
    "        # 아핀(affine) 연산: y = Wx + b\n",
    "        self.fc1 = nn.Linear(16 * 5 * 5, 120)  # 5*5은 이미지 차원, 120는 출력 노드 개수\n",
    "        self.fc2 = nn.Linear(120, 84)\n",
    "        self.fc3 = nn.Linear(84, 10)\n",
    "\n",
    "\n",
    "    def forward(self, input):\n",
    "        # c는 convolution(합성곱)-이미지 특징 추출, s는 subsampling(pooling) - 특징 맵 크기를 줄임\n",
    "        c1 = F.relu(self.conv1(input))\n",
    "        s2 = F.max_pool2d(c1, (2, 2))\n",
    "        c3 = F.relu(self.conv2(s2))\n",
    "        s4 = F.max_pool2d(c3, 2)\n",
    "        s4 = torch.flatten(s4, 1)\n",
    "        # f는 fully-connect(완전 연걸) - 신경망의 마지막 부분(분류를 담당)\n",
    "        f5 = F.relu(self.fc1(s4))\n",
    "        f6 = F.relu(self.fc2(f5))\n",
    "\n",
    "        output = self.fc3(f6)\n",
    "        \n",
    "        return output\n",
    "\n",
    "\n",
    "net = Net()\n",
    "print(net)\n"
   ]
  },
  {
   "cell_type": "markdown",
   "id": "8553c2c0",
   "metadata": {},
   "source": [
    "forward 함수만 정의하면 backward 함수는 autograd가 자동으로 정의됨."
   ]
  },
  {
   "cell_type": "code",
   "execution_count": null,
   "id": "c92463a5",
   "metadata": {},
   "outputs": [],
   "source": [
    "# 학습 가능한 매개변수들은 net.parameters()에 의해 반환\n",
    "params = list(net.parameters())\n",
    "print(len(params))\n",
    "print(params[0].size()) # conv1의 .weight"
   ]
  },
  {
   "cell_type": "code",
   "execution_count": null,
   "id": "9285eb18",
   "metadata": {},
   "outputs": [
    {
     "ename": "NameError",
     "evalue": "name 'torch' is not defined",
     "output_type": "error",
     "traceback": [
      "\u001b[31m---------------------------------------------------------------------------\u001b[39m",
      "\u001b[31mNameError\u001b[39m                                 Traceback (most recent call last)",
      "\u001b[36mCell\u001b[39m\u001b[36m \u001b[39m\u001b[32mIn[1]\u001b[39m\u001b[32m, line 2\u001b[39m\n\u001b[32m      1\u001b[39m \u001b[38;5;66;03m# 해당 net의 입력 크기는 32x32, 32x32로 크기 변경\u001b[39;00m\n\u001b[32m----> \u001b[39m\u001b[32m2\u001b[39m \u001b[38;5;28minput\u001b[39m = \u001b[43mtorch\u001b[49m.randn(\u001b[32m1\u001b[39m, \u001b[32m1\u001b[39m, \u001b[32m32\u001b[39m, \u001b[32m32\u001b[39m) \u001b[38;5;66;03m# 배치 사이즈, 채널 수, 높이, 너비\u001b[39;00m\n\u001b[32m      3\u001b[39m out = net(\u001b[38;5;28minput\u001b[39m)\n\u001b[32m      4\u001b[39m \u001b[38;5;28mprint\u001b[39m(out)\n",
      "\u001b[31mNameError\u001b[39m: name 'torch' is not defined"
     ]
    }
   ],
   "source": [
    "# 해당 net의 입력 크기는 32x32, 32x32로 크기 변경\n",
    "input = torch.randn(1, 1, 32, 32) # 배치 사이즈, 채널 수, 높이, 너비\n",
    "out = net(input)\n",
    "print(out)"
   ]
  },
  {
   "cell_type": "code",
   "execution_count": null,
   "id": "758f1fdd",
   "metadata": {},
   "outputs": [],
   "source": [
    "# 모든 매개변수 gradient buffer를 0으로 설정, 무작위 값으로 역전파\n",
    "net.zero_grad()\n",
    "out.backward(torch.randn(1,10)) # 스칼라 값이 아니여서 가중치 지정"
   ]
  },
  {
   "cell_type": "markdown",
   "id": "aef943f9",
   "metadata": {},
   "source": [
    "###요약\n",
    "*torch.Tensor - autograd 연산을 지원하는 다차원 배열, tensor에 대한 변화도를 가지고 있음\n",
    "*nn.Module - 신경망 모듈, 매개변수를 캡슐화하는 간편한 방법\n",
    "*nn.Parameter - Tensor의 한 종류로, Module에 속성으로 할당될 때 자동으로 매개변수로 등록된다.\n",
    "*autograd.Function - autograd 연산의 순방향과 역방향 정의 를 구현합니다."
   ]
  },
  {
   "cell_type": "markdown",
   "id": "edeb03a0",
   "metadata": {},
   "source": [
    "# 손실 함수는 (output, target)을 한 쌍의 입력으로 받아, 출력(output)과 정답(target)이 얼마나 떨어져 있는지 추정하는 값을 계산"
   ]
  },
  {
   "cell_type": "code",
   "execution_count": null,
   "id": "4465ee88",
   "metadata": {},
   "outputs": [],
   "source": [
    "#nn 패키지에는 여러 손실함수를 지원한다. 간단한 평균제곱오차를 사용 nn.MSEloss\n",
    "output = net(input)\n",
    "target = torch.randn(10) # 랜덤 정답\n",
    "target = target.view(1,-1) # output과 같은 shape\n",
    "criterion = nn.MSELoss\n",
    "\n",
    "loss = criterion(output, target) # loss 함수 계산\n",
    "print(loss)"
   ]
  },
  {
   "cell_type": "code",
   "execution_count": null,
   "id": "19f9faa9",
   "metadata": {},
   "outputs": [],
   "source": [
    "print(loss.grad_fn)  # MSELoss\n",
    "print(loss.grad_fn.next_functions[0][0])  # Linear\n",
    "print(loss.grad_fn.next_functions[0][0].next_functions[0][0])  # ReLU"
   ]
  },
  {
   "cell_type": "markdown",
   "id": "40bbccc5",
   "metadata": {},
   "source": [
    "# 역전파는 loss.backward만 하면됨. 기존 변화도를 0으로 만들어야함."
   ]
  },
  {
   "cell_type": "code",
   "execution_count": null,
   "id": "096d2922",
   "metadata": {},
   "outputs": [],
   "source": [
    "# loss.backward() 호출\n",
    "net.zero_grad() # 모든 매개변수 변화도 0으로 초기화\n",
    "\n",
    "print('conv1.bias.grad before backward')\n",
    "print(net.conv1.bias.grad)\n",
    "\n",
    "loss.backward()\n",
    "\n",
    "print('conv1.bias.grad after backward')\n",
    "print(net.conv1.bias.grad)"
   ]
  },
  {
   "cell_type": "markdown",
   "id": "80626de2",
   "metadata": {},
   "source": [
    "# 가중치 갱신\n",
    "가장 많이 사용되는 가장 단순한 규칙은 확률적 경사하강법(SGD)이다.\n",
    "\n",
    "weigh(새로운 가중치) = weight(가중치) - learning_rate(학습률) * gradient(변화도)"
   ]
  },
  {
   "cell_type": "code",
   "execution_count": null,
   "id": "28b2b998",
   "metadata": {},
   "outputs": [],
   "source": [
    "# 확률적 경사하강법 구현\n",
    "learning_rate = 0.01\n",
    "for f in net.parameters():\n",
    "    f.data.sub_(f.grad.data * learning_rate)"
   ]
  },
  {
   "cell_type": "code",
   "execution_count": null,
   "id": "c16a247e",
   "metadata": {},
   "outputs": [],
   "source": [
    "# 여러 optimizer 지원\n",
    "import torch.optim as optim\n",
    "\n",
    "# Optimizer를 생성합니다.\n",
    "optimizer = optim.SGD(net.parameters(), lr=0.01)\n",
    "\n",
    "# 학습 과정\n",
    "optimizer.zero_grad()   # 변화도 버퍼를 0으로\n",
    "output = net(input)\n",
    "loss = criterion(output, target)\n",
    "loss.backward()\n",
    "optimizer.step()    # 업데이트 진행"
   ]
  }
 ],
 "metadata": {
  "kernelspec": {
   "display_name": "torch_study",
   "language": "python",
   "name": "python3"
  },
  "language_info": {
   "codemirror_mode": {
    "name": "ipython",
    "version": 3
   },
   "file_extension": ".py",
   "mimetype": "text/x-python",
   "name": "python",
   "nbconvert_exporter": "python",
   "pygments_lexer": "ipython3",
   "version": "3.11.13"
  }
 },
 "nbformat": 4,
 "nbformat_minor": 5
}
